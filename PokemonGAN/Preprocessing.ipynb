{
 "cells": [
  {
   "cell_type": "markdown",
   "metadata": {},
   "source": [
    "## Preprocessing to get 80 more pokemon images to (256, 256, 3) size"
   ]
  },
  {
   "cell_type": "code",
   "execution_count": 10,
   "metadata": {},
   "outputs": [],
   "source": [
    "import os\n",
    "import cv2\n",
    "from PIL import Image\n",
    "import os\n",
    "\n",
    "\n",
    "src = \"./data_extended\" #pokeRGB_black\n",
    "dst = \"./d\" # resized\n",
    "\n",
    "\n",
    "\n",
    "for each in os.listdir(src):\n",
    "    png = Image.open(os.path.join(src,each))\n",
    "    if png.mode == 'RGBA':\n",
    "        png.load() # required for png.split()\n",
    "        background = Image.new(\"RGB\", png.size, (255,255,255))\n",
    "        background.paste(png, mask=png.split()[3]) # 3 is the alpha channel\n",
    "        background.save(os.path.join(dst,each.split('.')[0] + '.png'), 'PNG')\n",
    "    else:\n",
    "        png.convert('RGB')\n",
    "        png.save(os.path.join(dst,each.split('.')[0] + '.jpg'), 'JPEG')\n"
   ]
  },
  {
   "cell_type": "code",
   "execution_count": 11,
   "metadata": {},
   "outputs": [],
   "source": [
    "src = \"./d\" #pokeRGB_black\n",
    "dst = \"./data\" # resized\n",
    "\n",
    "if not os.path.exists(dst):\n",
    "    os.mkdir(dst)\n",
    "\n",
    "for each in os.listdir(src):\n",
    "    img = cv2.imread(os.path.join(src,each))\n",
    "    img = cv2.resize(img,(256,256), interpolation = cv2.INTER_AREA)\n",
    "    cv2.imwrite(os.path.join(dst,each), img)\n"
   ]
  }
 ],
 "metadata": {
  "kernelspec": {
   "display_name": "pytorch",
   "language": "python",
   "name": "pytorch"
  },
  "language_info": {
   "codemirror_mode": {
    "name": "ipython",
    "version": 3
   },
   "file_extension": ".py",
   "mimetype": "text/x-python",
   "name": "python",
   "nbconvert_exporter": "python",
   "pygments_lexer": "ipython3",
   "version": "3.6.10"
  }
 },
 "nbformat": 4,
 "nbformat_minor": 2
}
